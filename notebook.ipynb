{
 "cells": [
  {
   "cell_type": "markdown",
   "id": "d02db23c-7c08-4add-b60a-77e534cbdeba",
   "metadata": {
    "tags": []
   },
   "source": [
    "#  It's handy to use jupyter with django, let me show you how to do it"
   ]
  },
  {
   "cell_type": "code",
   "execution_count": 1,
   "id": "0e4f6960-2e1d-4cd9-9a9a-859e374f4a40",
   "metadata": {},
   "outputs": [
    {
     "name": "stdout",
     "output_type": "stream",
     "text": [
      "\u001b[36;1mOperations to perform:\u001b[0m\n",
      "\u001b[1m  Apply all migrations: \u001b[0madmin, app, auth, contenttypes, sessions\n",
      "\u001b[36;1mRunning migrations:\u001b[0m\n",
      "  No migrations to apply.\n",
      "\u001b[0m"
     ]
    }
   ],
   "source": [
    "!./manage.py migrate"
   ]
  },
  {
   "cell_type": "code",
   "execution_count": 2,
   "id": "6249dd91-5e33-4d1c-8df7-e8878a4d966d",
   "metadata": {},
   "outputs": [],
   "source": [
    "import os\n",
    "import django\n",
    "os.environ['DJANGO_ALLOW_ASYNC_UNSAFE'] = 'true'\n",
    "django.setup()"
   ]
  },
  {
   "cell_type": "code",
   "execution_count": 3,
   "id": "64e411ea-ce5d-4742-a940-6e707d8ef52f",
   "metadata": {},
   "outputs": [],
   "source": [
    "from django.contrib.auth.models import Permission"
   ]
  },
  {
   "cell_type": "code",
   "execution_count": 4,
   "id": "738c9617-3cd8-480d-b311-94f5ec83d9ed",
   "metadata": {},
   "outputs": [
    {
     "data": {
      "text/plain": [
       "28"
      ]
     },
     "execution_count": 4,
     "metadata": {},
     "output_type": "execute_result"
    }
   ],
   "source": [
    "Permission.objects.count()"
   ]
  },
  {
   "cell_type": "code",
   "execution_count": 5,
   "id": "2ebb691a-8dbe-48d3-8f7f-fa120ecf9146",
   "metadata": {},
   "outputs": [],
   "source": [
    "from app.tasks import debug_task, long_task, add"
   ]
  },
  {
   "cell_type": "code",
   "execution_count": 6,
   "id": "6de00ade-7cf7-40b1-bbaf-2117e6084572",
   "metadata": {},
   "outputs": [],
   "source": [
    "response = add.delay(3, 9)"
   ]
  },
  {
   "cell_type": "code",
   "execution_count": 7,
   "id": "31556774-726b-4709-b655-1308fe94dc3c",
   "metadata": {},
   "outputs": [
    {
     "data": {
      "text/plain": [
       "('SUCCESS', 12)"
      ]
     },
     "execution_count": 7,
     "metadata": {},
     "output_type": "execute_result"
    }
   ],
   "source": [
    "response.status, response.result"
   ]
  },
  {
   "cell_type": "code",
   "execution_count": null,
   "id": "62d618bb-4281-4b80-a923-97594b15fa90",
   "metadata": {},
   "outputs": [],
   "source": []
  },
  {
   "cell_type": "code",
   "execution_count": null,
   "id": "7eace117-ffe7-4eb6-a712-61283903ba5a",
   "metadata": {},
   "outputs": [],
   "source": []
  },
  {
   "cell_type": "code",
   "execution_count": null,
   "id": "da448307-00d4-4486-85a6-9e05b226d25e",
   "metadata": {},
   "outputs": [],
   "source": []
  }
 ],
 "metadata": {
  "kernelspec": {
   "display_name": "Python 3 (ipykernel)",
   "language": "python",
   "name": "python3"
  },
  "language_info": {
   "codemirror_mode": {
    "name": "ipython",
    "version": 3
   },
   "file_extension": ".py",
   "mimetype": "text/x-python",
   "name": "python",
   "nbconvert_exporter": "python",
   "pygments_lexer": "ipython3",
   "version": "3.9.6"
  }
 },
 "nbformat": 4,
 "nbformat_minor": 5
}
